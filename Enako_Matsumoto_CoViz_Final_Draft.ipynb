{
 "cells": [
  {
   "cell_type": "markdown",
   "metadata": {},
   "source": [
    "# Welcome to CoViz: Covid Data Visualization \n",
    "\n",
    "This program allows you to visualize the new daily covid cases from 1/1/20 - 4/30/21 as choropleth maps by country.\n",
    "The first visualization is on a linear scale while the second one organizes the data and the corresponding colors by quantiles.\n",
    "\n",
    "Let's get started by running the next cell. Then press the button \"Start Program\" to start the visualization!\n",
    "Then you can choose the color scheme of the choropleth maps by selecting the color type with the dropdown menu and then pressing the button, \"Execute Color Change.\"\n",
    "\n",
    "To change the date of the data that you are looking at, change the value of the respective sliders. "
   ]
  },
  {
   "cell_type": "code",
   "execution_count": 1,
   "metadata": {},
   "outputs": [
    {
     "data": {
      "application/vnd.jupyter.widget-view+json": {
       "model_id": "d5cd43cb5d5643a7bb4c66aa0bc81f57",
       "version_major": 2,
       "version_minor": 0
      },
      "text/plain": [
       "Button(description='Start Program', style=ButtonStyle())"
      ]
     },
     "metadata": {},
     "output_type": "display_data"
    },
    {
     "data": {
      "application/javascript": "IPython.notebook.execute_cells_below()",
      "text/plain": [
       "<IPython.core.display.Javascript object>"
      ]
     },
     "metadata": {},
     "output_type": "display_data"
    },
    {
     "data": {
      "application/javascript": "IPython.notebook.execute_cells_below()",
      "text/plain": [
       "<IPython.core.display.Javascript object>"
      ]
     },
     "metadata": {},
     "output_type": "display_data"
    }
   ],
   "source": [
    "import geopandas\n",
    "import ipywidgets\n",
    "import matplotlib.pyplot as plt\n",
    "import pandas as pd\n",
    "from ipywidgets import interact, widgets, Dropdown, Layout\n",
    "import mapclassify.classifiers as classifiers\n",
    "from IPython.display import Javascript, display\n",
    "\n",
    "\n",
    "\n",
    "def run_all(ev):\n",
    "    display(Javascript('IPython.notebook.execute_cells_below()'))\n",
    "\n",
    "button = widgets.Button(description=\"Start Program\")\n",
    "button.on_click(run_all)\n",
    "display(button)"
   ]
  },
  {
   "cell_type": "code",
   "execution_count": 2,
   "metadata": {},
   "outputs": [
    {
     "data": {
      "application/vnd.jupyter.widget-view+json": {
       "model_id": "dee3c026696143de9c541709d92ad048",
       "version_major": 2,
       "version_minor": 0
      },
      "text/plain": [
       "Dropdown(description='Choose color scheme:', options=('viridis', 'plasma', 'inferno', 'magma', 'cividis', 'Gre…"
      ]
     },
     "metadata": {},
     "output_type": "display_data"
    },
    {
     "data": {
      "application/vnd.jupyter.widget-view+json": {
       "model_id": "c200cc7beb3c4fa18dd363d69da883f1",
       "version_major": 2,
       "version_minor": 0
      },
      "text/plain": [
       "Button(description='Execute Color Change', layout=Layout(width='50%'), style=ButtonStyle())"
      ]
     },
     "metadata": {},
     "output_type": "display_data"
    }
   ],
   "source": [
    "owidNewCases = geopandas.read_file(\"basemapAndOwidNewCovidCases.geojson\")\n",
    "\n",
    "mdy = []#list of possible year-month-day in the dataset \"owid-covid-data.csv\" (1/1/20 - 4/30/21)\n",
    "for month20 in range(13)[1:]:\n",
    "    if(month20 == 2):\n",
    "        for day20 in range(30)[1:]:\n",
    "            mdy.append(str(month20)+\"/\"+str(day20)+\"/20\")\n",
    "    elif(month20 == 4 or month20 == 6 or month20 ==  9 or month20 == 11):\n",
    "        for day20 in range(31)[1:]:\n",
    "            mdy.append(str(month20)+\"/\"+str(day20)+\"/20\")\n",
    "    else:\n",
    "        for day20 in range(32)[1:]:\n",
    "            mdy.append(str(month20)+\"/\"+str(day20)+\"/20\")\n",
    "\n",
    "for month21 in range(5)[1:]:\n",
    "    if(month21 == 2):\n",
    "        for day21 in range(29)[1:]:\n",
    "            mdy.append(str(month21)+\"/\"+str(day21)+\"/21\")\n",
    "    elif(month21 == 4):\n",
    "        for day21 in range(31)[1:]:\n",
    "            mdy.append(str(month21)+\"/\"+str(day21)+\"/21\")\n",
    "    else:\n",
    "        for day21 in range(32)[1:]:\n",
    "            mdy.append(str(month21)+\"/\"+str(day21)+\"/21\")\n",
    "            \n",
    "            \n",
    "#https://stackoverflow.com/questions/34020789/ipywidgets-dropdown-widgets-what-is-the-onchange-event\n",
    "def dropdown_eventhandler(change):\n",
    "    print(change.new)\n",
    "\n",
    "def colorDropdown(colorScheme):\n",
    "    print(colorScheme.new)\n",
    "colorData=('viridis', 'plasma', 'inferno', 'magma', 'cividis', 'Greys', 'Purples', 'Blues', 'Greens', 'Oranges', 'Reds',\n",
    " 'YlOrBr', 'YlOrRd', 'OrRd', 'PuRd', 'RdPu', 'BuPu', 'GnBu', 'PuBu', 'YlGnBu', 'PuBuGn', 'BuGn', 'YlGn', \n",
    " 'binary', 'gist_yarg', 'gist_gray', 'gray', 'bone', 'pink', 'spring', 'summer', 'autumn', 'winter', 'cool', \n",
    " 'Wistia', 'hot', 'afmhot', 'gist_heat', 'copper', 'PiYG', 'PRGn', 'BrBG', 'PuOr', 'RdGy', 'RdBu', 'RdYlBu', \n",
    " 'RdYlGn', 'Spectral', 'coolwarm', 'bwr', 'seismic', 'twilight', 'twilight_shifted', 'hsv', 'Pastel1', \n",
    " 'Pastel2', 'Paired', 'Accent', 'Dark2', 'Set1', 'Set2', 'Set3', 'tab10', 'tab20', 'tab20b', 'tab20c',\n",
    " 'flag', 'prism', 'ocean', 'gist_earth', 'terrain', 'gist_stern', 'gnuplot', 'gnuplot2', 'CMRmap', 'cubehelix', \n",
    " 'brg', 'gist_rainbow', 'rainbow', 'jet', 'turbo', 'nipy_spectral', 'gist_ncar')\n",
    "style = {'description_width': 'initial'}\n",
    "colorDropdown = Dropdown(description=\"Choose color scheme:\", options=colorData, style=style)\n",
    "colorDropdown.observe(dropdown_eventhandler, names='value')\n",
    "display(colorDropdown)\n",
    "\n",
    "def choropleth(dateIndex):\n",
    "    fig, ax = plt.subplots(1,1, figsize=(20,10))\n",
    "    owidNewCases.plot(column=mdy[dateIndex], ax=ax, legend=True, cmap=colorDropdown.value)#can change color scheme with cmap\n",
    "    ax.set_title(\"New Covid-19 Cases on \"+ mdy[dateIndex], fontsize=\"20\")\n",
    "\n",
    "\n",
    "\n",
    "def QuantilesChoropleth(dateIndex):\n",
    "    fig, ax = plt.subplots(1,1, figsize=(20,10))\n",
    "    owidNewCases.plot(column=mdy[dateIndex], ax=ax, legend=True, cmap=colorDropdown.value,scheme=\"quantiles\",)#can change color scheme with cmap\n",
    "    ax.set_title(\"New Covid-19 Cases on \"+ mdy[dateIndex], fontsize=\"20\")\n",
    "    \n",
    "def run_all(ev):\n",
    "    display(Javascript('IPython.notebook.execute_cell_range(IPython.notebook.get_selected_index()+1, IPython.notebook.ncells())'))\n",
    "\n",
    "button = widgets.Button(description=\"Execute Color Change\", layout=Layout(width='50%'))\n",
    "button.on_click(run_all)\n",
    "display(button)\n"
   ]
  },
  {
   "cell_type": "code",
   "execution_count": 3,
   "metadata": {},
   "outputs": [
    {
     "data": {
      "application/vnd.jupyter.widget-view+json": {
       "model_id": "b0688e203ed9463c9df51090dfb7d37b",
       "version_major": 2,
       "version_minor": 0
      },
      "text/plain": [
       "interactive(children=(IntSlider(value=0, description='date', max=485), Output()), _dom_classes=('widget-intera…"
      ]
     },
     "metadata": {},
     "output_type": "display_data"
    },
    {
     "data": {
      "application/vnd.jupyter.widget-view+json": {
       "model_id": "f31ac1b7952448b888a746949a0c4969",
       "version_major": 2,
       "version_minor": 0
      },
      "text/plain": [
       "interactive(children=(IntSlider(value=0, description='date', max=485), Output()), _dom_classes=('widget-intera…"
      ]
     },
     "metadata": {},
     "output_type": "display_data"
    },
    {
     "data": {
      "text/plain": [
       "<function __main__.QuantilesChoropleth(dateIndex)>"
      ]
     },
     "execution_count": 3,
     "metadata": {},
     "output_type": "execute_result"
    }
   ],
   "source": [
    "interact(choropleth, dateIndex=widgets.IntSlider(min=0, max=len(mdy)-1, step=1, value=0, description=\"date\"))\n",
    "\n",
    "interact(QuantilesChoropleth, dateIndex=widgets.IntSlider(min=0, max=len(mdy)-1, step=1, value=0, description=\"date\"))"
   ]
  },
  {
   "cell_type": "code",
   "execution_count": null,
   "metadata": {},
   "outputs": [],
   "source": []
  }
 ],
 "metadata": {
  "kernelspec": {
   "display_name": "Python 3",
   "language": "python",
   "name": "python3"
  },
  "language_info": {
   "codemirror_mode": {
    "name": "ipython",
    "version": 3
   },
   "file_extension": ".py",
   "mimetype": "text/x-python",
   "name": "python",
   "nbconvert_exporter": "python",
   "pygments_lexer": "ipython3",
   "version": "3.9.7"
  },
  "vscode": {
   "interpreter": {
    "hash": "aee8b7b246df8f9039afb4144a1f6fd8d2ca17a180786b69acc140d282b71a49"
   }
  }
 },
 "nbformat": 4,
 "nbformat_minor": 4
}
